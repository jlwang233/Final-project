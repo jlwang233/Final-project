{
 "cells": [
  {
   "cell_type": "code",
   "execution_count": 64,
   "metadata": {
    "collapsed": true
   },
   "outputs": [],
   "source": [
    "import numpy as np\n",
    "import math"
   ]
  },
  {
   "cell_type": "code",
   "execution_count": 4,
   "metadata": {
    "collapsed": true
   },
   "outputs": [],
   "source": [
    "class Queue: \n",
    "    def __init__(self):\n",
    "        self.items = []\n",
    "\n",
    "    def isEmpty(self):\n",
    "        return self.items == []\n",
    "\n",
    "    def enqueue(self, item):\n",
    "        self.items.insert(0,item)\n",
    "\n",
    "    def dequeue(self):\n",
    "        return self.items.pop()\n",
    "\n",
    "    def size(self):\n",
    "        return len(self.items)"
   ]
  },
  {
   "cell_type": "code",
   "execution_count": 192,
   "metadata": {},
   "outputs": [],
   "source": [
    "class Seat:   #printer\n",
    "    def __init__(self, seatID):\n",
    "        self.id= seatID\n",
    "        self.taken = 0\n",
    "        \n",
    "    def getSeatID(self):\n",
    "        return self.id\n",
    "        \n",
    "    def stype(self):\n",
    "        a=self.getSeatID()\n",
    "        if a <= 75 & a >= 1:\n",
    "            temp = 'desk'\n",
    "        elif a <= 100 & a >= 76:\n",
    "            temp = 'room'\n",
    "        elif a <= 150 & a >= 101:\n",
    "            temp = 'table' \n",
    "        return temp\n",
    "    \n",
    "    def size(self):\n",
    "        if self.stype == 'desk':\n",
    "            self.size = 1\n",
    "        elif self.stype == 'table' or 'room':\n",
    "            self.size = 6\n",
    "        return self.size\n",
    "        \n",
    "    def occupied(self):\n",
    "        if self.taken == self.size:\n",
    "            return True\n",
    "        else:\n",
    "            return False      \n",
    "    \n",
    "    def addNew(self, newcome):\n",
    "        self.taken += newcome\n",
    "        return self.taken"
   ]
  },
  {
   "cell_type": "code",
   "execution_count": 53,
   "metadata": {
    "collapsed": true
   },
   "outputs": [],
   "source": [
    "class Study:\n",
    "    def __init__(self, StudyID):\n",
    "        self.StudyID=StudyID\n",
    "        self.size = np.random.choice([1,1,1,1,1,2,3,4,5,6])\n",
    "        self.timeSpend = math.ceil(np.random.chisquare(5, size=50))*20\n",
    "        self.timeEnter = None\n",
    "        self.seat= None \n",
    "    \n",
    "    def getStudyID(self):\n",
    "        return self.StudyID\n",
    "    \n",
    "    def getSize(self):\n",
    "        return self.size\n",
    "    \n",
    "    def getTimeSpend(self):\n",
    "        return self.timeSpend\n",
    "    \n",
    "    def getType(self):\n",
    "        if self.size == 1:\n",
    "            self.getType = 'indi'\n",
    "        else:\n",
    "            self.getType = 'group'\n",
    "            \n",
    "    def timeStamp(self): #Time when student enter into the queue\n",
    "        return StudyID * 5\n",
    "    \n",
    "    def timeEnter(self):\n",
    "        return self.timeEnter\n",
    "    \n",
    "    def timeLeft(self):\n",
    "        return self.timeEnter + self.timeSpend\n",
    "    \n",
    "    def waitTime(self):\n",
    "        return currenttime - self.timestamp"
   ]
  },
  {
   "cell_type": "code",
   "execution_count": 52,
   "metadata": {},
   "outputs": [
    {
     "ename": "SyntaxError",
     "evalue": "invalid syntax (<ipython-input-52-8d9bc1dd7fe1>, line 1)",
     "output_type": "error",
     "traceback": [
      "\u001b[1;36m  File \u001b[1;32m\"<ipython-input-52-8d9bc1dd7fe1>\"\u001b[1;36m, line \u001b[1;32m1\u001b[0m\n\u001b[1;33m    def Simulator\u001b[0m\n\u001b[1;37m                 ^\u001b[0m\n\u001b[1;31mSyntaxError\u001b[0m\u001b[1;31m:\u001b[0m invalid syntax\n"
     ]
    }
   ],
   "source": [
    "def Simulation(totaltime):\n",
    "    #arrange seats in library\n",
    "    seats=[]\n",
    "    for i in range(150):\n",
    "        seats.append(Seat(i+1))\n",
    "        \n",
    "    # arrange study units \n",
    "    indiv=[]\n",
    "    group=[]\n",
    "    for i in range(int(totaltime/5)):\n",
    "        if Study(i).size == 1:\n",
    "            indiv.insert(-1,Study(i))\n",
    "        elif Study(i).size >1:\n",
    "            group.insert(-1,Study(i))\n",
    "            \n",
    "    for unit in indiv:\n",
    "        for i in range(75):\n",
    "            if S\n",
    "    # record exit time \n",
    "    for currentmin in range(total_time):\n",
    "        for "
   ]
  },
  {
   "cell_type": "code",
   "execution_count": 69,
   "metadata": {},
   "outputs": [],
   "source": []
  },
  {
   "cell_type": "code",
   "execution_count": null,
   "metadata": {
    "collapsed": true
   },
   "outputs": [],
   "source": []
  }
 ],
 "metadata": {
  "kernelspec": {
   "display_name": "Python 3",
   "language": "python",
   "name": "python3"
  },
  "language_info": {
   "codemirror_mode": {
    "name": "ipython",
    "version": 3
   },
   "file_extension": ".py",
   "mimetype": "text/x-python",
   "name": "python",
   "nbconvert_exporter": "python",
   "pygments_lexer": "ipython3",
   "version": "3.6.3"
  }
 },
 "nbformat": 4,
 "nbformat_minor": 2
}
