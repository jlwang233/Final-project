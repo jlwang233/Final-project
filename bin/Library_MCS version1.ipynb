{
 "cells": [
  {
   "cell_type": "code",
   "execution_count": 64,
   "metadata": {
    "collapsed": true
   },
   "outputs": [],
   "source": [
    "import numpy as np\n",
    "import math\n",
    "import pandas as pd"
   ]
  },
  {
   "cell_type": "code",
   "execution_count": 4,
   "metadata": {
    "collapsed": true
   },
   "outputs": [],
   "source": [
    "class Queue: \n",
    "    def __init__(self):\n",
    "        self.items = []\n",
    "\n",
    "    def isEmpty(self):\n",
    "        return self.items == []\n",
    "\n",
    "    def enqueue(self, item):\n",
    "        self.items.insert(0,item)\n",
    "\n",
    "    def dequeue(self):\n",
    "        return self.items.pop()\n",
    "\n",
    "    def size(self):\n",
    "        return len(self.items)"
   ]
  },
  {
   "cell_type": "code",
   "execution_count": 287,
   "metadata": {},
   "outputs": [],
   "source": [
    "class Seat: \n",
    "    def __init__(self, seatID):\n",
    "        self.id= seatID\n",
    "        self.taken = 0\n",
    "        \n",
    "    def getSeatID(self):\n",
    "        return self.id\n",
    "        \n",
    "    def stype(self):\n",
    "        if (self.id <= 75) & (self.id >= 1):\n",
    "            self.stype = 'desk'\n",
    "        elif (self.id <= 100) & (self.id >= 76):\n",
    "            self.stype = 'room'\n",
    "        elif (self.id <= 150) & (self.id >= 101):\n",
    "            self.stype = 'table' \n",
    "        return self.stype\n",
    "        \n",
    "    \n",
    "    def size(self):\n",
    "        if (self.id <= 75) & (self.id >= 1):\n",
    "            self.size = 1\n",
    "        else:\n",
    "            self.size = 6\n",
    "        return self.size\n",
    "        \n",
    "    def occupied(self):\n",
    "        if self.taken == self.size():\n",
    "            return True\n",
    "        else:\n",
    "            return False      \n",
    "    \n",
    "    def addNew(self, newcome):\n",
    "        self.taken += newcome\n",
    "        return self.taken"
   ]
  },
  {
   "cell_type": "code",
   "execution_count": 288,
   "metadata": {},
   "outputs": [
    {
     "data": {
      "text/plain": [
       "'desk'"
      ]
     },
     "execution_count": 288,
     "metadata": {},
     "output_type": "execute_result"
    }
   ],
   "source": [
    "a=Seat(5)\n",
    "#a.getSeatID()\n",
    "#a.stype()\n",
    "#a.size()\n",
    "#a.occupied()\n",
    "#a.addNew(1)\n",
    "#a.occupied()"
   ]
  },
  {
   "cell_type": "code",
   "execution_count": 377,
   "metadata": {
    "collapsed": true
   },
   "outputs": [],
   "source": [
    "class Study():\n",
    "    def __init__(self, StudyID):\n",
    "        self.ID= StudyID\n",
    "        self.size = np.random.choice([1,1,1,1,1,2,3,4,5,6])\n",
    "        self.timeSpend = math.ceil(np.random.chisquare(5, size=None))*20\n",
    "        self.timeEnter = 0\n",
    "        self.seat= 0\n",
    "    \n",
    "    def getStudyID(self):\n",
    "        return self.ID\n",
    "    \n",
    "    def getSize(self):\n",
    "        return self.size\n",
    "    \n",
    "    def getTimeSpend(self):\n",
    "        return self.timeSpend\n",
    "    \n",
    "    def getType(self):\n",
    "        if self.getSize() == 1:\n",
    "            self.getType = 'indi'\n",
    "        else:\n",
    "            self.getType = 'group'\n",
    "        return self.getType\n",
    "            \n",
    "    def timeStamp(self): #Time when student enter into the queue\n",
    "        return self.ID * 5\n",
    "    \n",
    "    def timeEnter(self):\n",
    "        return self.timeEnter\n",
    "    \n",
    "    def timeExit(self):\n",
    "        return int(self.timeEnter) + self.timeSpend\n",
    "    \n",
    "    def waitTime(self):\n",
    "        return self.timeEnter - self.timeStamp()"
   ]
  },
  {
   "cell_type": "code",
   "execution_count": 334,
   "metadata": {},
   "outputs": [
    {
     "data": {
      "text/plain": [
       "'group'"
      ]
     },
     "execution_count": 334,
     "metadata": {},
     "output_type": "execute_result"
    }
   ],
   "source": [
    "b=Study(3)\n",
    "#b.size\n",
    "#b.timeSpend\n",
    "#b.getSize()\n",
    "#b.getTimeSpend()\n",
    "b.getType()\n",
    "#b.timeStamp()\n",
    "#b.timeEnter = 20\n",
    "#b.timeExit()\n",
    "#b.waitTime()"
   ]
  },
  {
   "cell_type": "code",
   "execution_count": 350,
   "metadata": {},
   "outputs": [
    {
     "ename": "SyntaxError",
     "evalue": "unexpected EOF while parsing (<ipython-input-350-4148d7bb1bc3>, line 27)",
     "output_type": "error",
     "traceback": [
      "\u001b[1;36m  File \u001b[1;32m\"<ipython-input-350-4148d7bb1bc3>\"\u001b[1;36m, line \u001b[1;32m27\u001b[0m\n\u001b[1;33m    \u001b[0m\n\u001b[1;37m    ^\u001b[0m\n\u001b[1;31mSyntaxError\u001b[0m\u001b[1;31m:\u001b[0m unexpected EOF while parsing\n"
     ]
    }
   ],
   "source": [
    "def Simulation(newstudyID):\n",
    "    #arrange seats in library\n",
    "    seats=[]\n",
    "    for i in range(150):\n",
    "        seats.append(Seat(i+1))\n",
    "    \n",
    "    #create waitline record\n",
    "    waitline=[]\n",
    "    \n",
    "    #create exittime record\n",
    "    exittime=pd.DataFrame(columns=['StudyID','SeatID','StudySize','timeExit'])\n",
    "    \n",
    "    for i in range(newstudyID):\n",
    "        if Study(i).size == 1:\n",
    "            waitline_indi=[m for m in waitline if m.size ==1]\n",
    "            if len(waitline_indi) > 0:\n",
    "                waitline.append(-1,Study(i))\n",
    "            if len(waitline_indi) == 0:\n",
    "                next_aval_desk = next((n for n in seats[0:75] if n.taken == 0), False)\n",
    "                if next_aval_desk != False:\n",
    "                    Study(i).seat = next_aval_desk.id\n",
    "                    Study(i).timeEnter = Study(i).timeStamp()\n",
    "                    Study(i).timeExit()\n",
    "                    \n",
    "                    \n",
    "                \n",
    "                \n",
    "        elif Study(i).size >1:\n",
    "            "
   ]
  },
  {
   "cell_type": "code",
   "execution_count": 392,
   "metadata": {},
   "outputs": [
    {
     "data": {
      "text/plain": [
       "40"
      ]
     },
     "execution_count": 392,
     "metadata": {},
     "output_type": "execute_result"
    }
   ],
   "source": [
    "Study(3).timeEnter=60\n",
    "Study(3).timeExit()"
   ]
  },
  {
   "cell_type": "code",
   "execution_count": 389,
   "metadata": {},
   "outputs": [
    {
     "data": {
      "text/html": [
       "<div>\n",
       "<style>\n",
       "    .dataframe thead tr:only-child th {\n",
       "        text-align: right;\n",
       "    }\n",
       "\n",
       "    .dataframe thead th {\n",
       "        text-align: left;\n",
       "    }\n",
       "\n",
       "    .dataframe tbody tr th {\n",
       "        vertical-align: top;\n",
       "    }\n",
       "</style>\n",
       "<table border=\"1\" class=\"dataframe\">\n",
       "  <thead>\n",
       "    <tr style=\"text-align: right;\">\n",
       "      <th></th>\n",
       "      <th>StudyID</th>\n",
       "      <th>SeatID</th>\n",
       "      <th>StudySize</th>\n",
       "      <th>timeExit</th>\n",
       "    </tr>\n",
       "  </thead>\n",
       "  <tbody>\n",
       "    <tr>\n",
       "      <th>0</th>\n",
       "      <td>3.0</td>\n",
       "      <td>0.0</td>\n",
       "      <td>2.0</td>\n",
       "      <td>NaN</td>\n",
       "    </tr>\n",
       "  </tbody>\n",
       "</table>\n",
       "</div>"
      ],
      "text/plain": [
       "   StudyID  SeatID  StudySize  timeExit\n",
       "0      3.0     0.0        2.0       NaN"
      ]
     },
     "execution_count": 389,
     "metadata": {},
     "output_type": "execute_result"
    }
   ],
   "source": [
    "c=['StudyID','SeatID','StudySize','timeExit']\n",
    "exittime=pd.DataFrame(columns=c)\n",
    "Study(3).timeEnter=60\n",
    "a=[Study(3).getStudyID(),Study(3).seat,Study(3).size,Study(3).timeExit()]\n",
    "exittime=exittime.append({c[i]:a[i] for i in range(3)},ignore_index=True)\n",
    "exittime"
   ]
  },
  {
   "cell_type": "code",
   "execution_count": 374,
   "metadata": {},
   "outputs": [
    {
     "data": {
      "text/plain": [
       "int"
      ]
     },
     "execution_count": 374,
     "metadata": {},
     "output_type": "execute_result"
    }
   ],
   "source": [
    "Study(3)\n",
    "Study(3).timeEnter= 60\n",
    "type(Study(3).timeSpend"
   ]
  },
  {
   "cell_type": "code",
   "execution_count": 354,
   "metadata": {},
   "outputs": [
    {
     "data": {
      "text/plain": [
       "False"
      ]
     },
     "execution_count": 354,
     "metadata": {},
     "output_type": "execute_result"
    }
   ],
   "source": [
    "c= next((n for n in seats[0:75] if n.taken == 1), False)\n",
    "c"
   ]
  },
  {
   "cell_type": "code",
   "execution_count": 306,
   "metadata": {
    "collapsed": true
   },
   "outputs": [],
   "source": [
    "lst=[Study(1),Study(2),Study(3),Study(4),Study(5)]"
   ]
  },
  {
   "cell_type": "code",
   "execution_count": 348,
   "metadata": {},
   "outputs": [
    {
     "data": {
      "text/plain": [
       "1"
      ]
     },
     "execution_count": 348,
     "metadata": {},
     "output_type": "execute_result"
    }
   ],
   "source": [
    "lst[3].size"
   ]
  },
  {
   "cell_type": "code",
   "execution_count": 349,
   "metadata": {},
   "outputs": [
    {
     "data": {
      "text/plain": [
       "2"
      ]
     },
     "execution_count": 349,
     "metadata": {},
     "output_type": "execute_result"
    }
   ],
   "source": [
    "lstt=[]\n",
    "for i in lst:\n",
    "    if i.size==1:\n",
    "        lstt.append(i)\n",
    "lstt\n",
    "len(lstt)"
   ]
  },
  {
   "cell_type": "code",
   "execution_count": 305,
   "metadata": {},
   "outputs": [
    {
     "data": {
      "text/plain": [
       "150"
      ]
     },
     "execution_count": 305,
     "metadata": {},
     "output_type": "execute_result"
    }
   ],
   "source": [
    "seats=[]\n",
    "for i in range(150):\n",
    "    seats.append(Seat(i+1))\n",
    "seats[149].getSeatID()"
   ]
  },
  {
   "cell_type": "code",
   "execution_count": null,
   "metadata": {
    "collapsed": true
   },
   "outputs": [],
   "source": []
  },
  {
   "cell_type": "code",
   "execution_count": null,
   "metadata": {
    "collapsed": true
   },
   "outputs": [],
   "source": [
    "Simulation(600)"
   ]
  }
 ],
 "metadata": {
  "kernelspec": {
   "display_name": "Python 3",
   "language": "python",
   "name": "python3"
  },
  "language_info": {
   "codemirror_mode": {
    "name": "ipython",
    "version": 3
   },
   "file_extension": ".py",
   "mimetype": "text/x-python",
   "name": "python",
   "nbconvert_exporter": "python",
   "pygments_lexer": "ipython3",
   "version": "3.6.3"
  }
 },
 "nbformat": 4,
 "nbformat_minor": 2
}
